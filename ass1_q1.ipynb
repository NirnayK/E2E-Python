{
 "cells": [
  {
   "cell_type": "code",
   "execution_count": null,
   "metadata": {},
   "outputs": [],
   "source": [
    "#Importing the libraries\n",
    "import matplotlib.pyplot as plt\n",
    "import csv\n",
    "from collections import Counter"
   ]
  },
  {
   "cell_type": "code",
   "execution_count": null,
   "metadata": {},
   "outputs": [],
   "source": [
    "schools = './assets/primaryschool.csv'\n",
    "with open(schools, newline='') as csvfile:\n",
    "    # Create a CSV reader object\n",
    "    csv_reader = csv.reader(csvfile)\n",
    "\n",
    "    # Read the header row\n",
    "    header = next(csv_reader)\n",
    "    \n",
    "    # intialize a map\n",
    "    map = Counter()\n",
    "    \n",
    "    for row in csv_reader:\n",
    "        map[row[8]] += 1"
   ]
  },
  {
   "cell_type": "code",
   "execution_count": null,
   "metadata": {},
   "outputs": [],
   "source": [
    "districts = list(map.keys())\n",
    "count = list(map.values())"
   ]
  },
  {
   "cell_type": "code",
   "execution_count": null,
   "metadata": {},
   "outputs": [],
   "source": [
    "plt.bar(districts,count)\n",
    "\n",
    "# Rotate x-axis labels vertically and add spacing\n",
    "plt.xticks(rotation='vertical', ha='center')\n",
    "plt.subplots_adjust(bottom=0.15)\n",
    "\n",
    "# Set the y-axis limit to 1000 + max value of y\n",
    "plt.ylim(0, 200 + max(count))\n",
    "plt.autoscale(enable=True, axis='x', tight=False)\n",
    "plt.bar_label(plt.bar(districts,count), padding=3,fmt='%d')\n",
    "\n",
    "plt.show()"
   ]
  }
 ],
 "metadata": {
  "kernelspec": {
   "display_name": "test1",
   "language": "python",
   "name": "python3"
  },
  "language_info": {
   "codemirror_mode": {
    "name": "ipython",
    "version": 3
   },
   "file_extension": ".py",
   "mimetype": "text/x-python",
   "name": "python",
   "nbconvert_exporter": "python",
   "pygments_lexer": "ipython3",
   "version": "3.10.12"
  }
 },
 "nbformat": 4,
 "nbformat_minor": 2
}
