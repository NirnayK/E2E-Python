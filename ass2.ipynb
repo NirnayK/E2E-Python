{
 "cells": [
  {
   "cell_type": "code",
   "execution_count": null,
   "metadata": {},
   "outputs": [],
   "source": [
    "\"\"\"\n",
    "    Write a function in python to find the sum of the cube of elements in a list. \n",
    "    The list is received as an argument to the function, in turn, the function must return the sum.\n",
    "    Write the main function which invokes the above function.\n",
    "\"\"\"\n",
    "\n",
    "def cube_sum(array:list):\n",
    "    cube = lambda x: x**3\n",
    "    \n",
    "    if(type(array) != list):\n",
    "        print(\"The argument must be a list\")\n",
    "        return\n",
    "    \n",
    "    total = sum([cube(i) for i in array])\n",
    "    return total\n",
    "\n",
    " "
   ]
  },
  {
   "cell_type": "code",
   "execution_count": null,
   "metadata": {},
   "outputs": [],
   "source": [
    "\"\"\"\n",
    "    Write a definition of a method count_now(places) to find and display those place names,\n",
    "    in which there are more than 5 characters.\n",
    "\"\"\"\n",
    "\n",
    "def count_now(places):\n",
    "    for i in places:\n",
    "        if len(i) > 5:\n",
    "            print(i)\n"
   ]
  },
  {
   "cell_type": "code",
   "execution_count": null,
   "metadata": {},
   "outputs": [],
   "source": [
    "\"\"\"\n",
    "    Write a function that accepts a dictionary as an argument. \n",
    "    If the dictionary contains duplicate values, it should return an empty dictionary. \n",
    "    Otherwise, it should return a new dictionary where the values become the keys and \n",
    "    the keys become the values.\n",
    "\"\"\"\n",
    "\n",
    "def dict_swap(dictionary:dict):\n",
    "    if len(dictionary) == len(set(dictionary.values())):\n",
    "        new_dict = {value:key for key,value in dictionary.items()}\n",
    "        return new_dict\n",
    "    else:\n",
    "        return {}\n"
   ]
  },
  {
   "cell_type": "code",
   "execution_count": null,
   "metadata": {},
   "outputs": [],
   "source": [
    "\"\"\"\n",
    "    Write a Python function that accepts a string and counts \n",
    "    the number of upper and lower case letters.\n",
    "\"\"\"\n",
    "\n",
    "def count_upper_lower(string:str):\n",
    "    \n",
    "    if(type(string) != str):\n",
    "        print(\"The argument must be a string\")\n",
    "        return\n",
    "    \n",
    "    upper = sum([1 for i in string if i.isupper()])\n",
    "    lower = sum([1 for i in string if i.islower()])\n",
    "    \n",
    "    return upper, lower\n"
   ]
  },
  {
   "cell_type": "code",
   "execution_count": null,
   "metadata": {},
   "outputs": [],
   "source": [
    "\"\"\"Write a Python program that invokes a function after a specified period of time.\"\"\"\n",
    "\n",
    "def delay(func,time:int):\n",
    "    import time as t\n",
    "    t.sleep(time)\n",
    "    func()"
   ]
  },
  {
   "cell_type": "code",
   "execution_count": null,
   "metadata": {},
   "outputs": [],
   "source": [
    "\"\"\"Write a Python program to create a decorator that logs the arguments and return value of a function.\"\"\"\n",
    "\n",
    "def logger(*decargs, **deckwargs):\n",
    "    def outer_func(func):\n",
    "        def inner_func(*fnargs, **fnkwargs):\n",
    "            print(f\"Arguments: {fnargs}, {fnkwargs}\")\n",
    "            return func(*fnargs, **fnkwargs)\n",
    "        return inner_func\n",
    "    return outer_func\n",
    "\n",
    "\n",
    "@logger()\n",
    "def add(a,b):\n",
    "    return a+b"
   ]
  },
  {
   "cell_type": "code",
   "execution_count": null,
   "metadata": {},
   "outputs": [],
   "source": [
    "\"\"\"\n",
    "    Write a python program to create a decorator with parameters, to format the text as bold,\n",
    "    italics, or underline. format option should be passed as the argument to the decorator.\n",
    "    Decorator should be able to accept multiple parameters, to apply multiple format options.\n",
    "\"\"\"\n",
    "\n",
    "def formatter(*decargs, **deckwargs):\n",
    "    def outer_func(func):\n",
    "        def inner_func(string, *fnargs, **fnkwargs):\n",
    "            bold = \"\\033[1m\"\n",
    "            italic = \"\\033[3m\"\n",
    "            underline = \"\\033[4m\"\n",
    "            end = \"\\033[0m\"\n",
    "            \n",
    "            for option in decargs:\n",
    "                if option == \"bold\":\n",
    "                    string = bold + string + end\n",
    "                elif option == \"italic\":\n",
    "                    string = italic + string + end\n",
    "                elif option == \"underline\":\n",
    "                    string = underline + string + end\n",
    "                else:\n",
    "                    print(\"Invalid option\")\n",
    "\n",
    "            return func(string, *fnargs, **fnkwargs)\n",
    "        \n",
    "        return inner_func\n",
    "    \n",
    "    return outer_func\n",
    "\n",
    "\n",
    "@formatter(\"bold\",\"italic\")\n",
    "def print_string(string:str):\n",
    "    print(string)"
   ]
  },
  {
   "cell_type": "code",
   "execution_count": null,
   "metadata": {},
   "outputs": [],
   "source": [
    "def testq1():\n",
    "    array1 = [1,2,3,4,5]\n",
    "    total = cube_sum(array1)\n",
    "    print(f\"Cube Sum = {total}\")"
   ]
  },
  {
   "cell_type": "code",
   "execution_count": null,
   "metadata": {},
   "outputs": [],
   "source": [
    "def testq2():\n",
    "    array2 = [\"India\", \"USA\", \"Germany\", \"Australia\", \"France\", \"South Africa\"]\n",
    "    count_now(array2)"
   ]
  },
  {
   "cell_type": "code",
   "execution_count": null,
   "metadata": {},
   "outputs": [],
   "source": [
    "def testq3():\n",
    "    \n",
    "    map0 = map1 = {1:\"one\", 2:\"two\", 3:\"three\", 4:\"four\", 5:\"five\"}\n",
    "    map1 = {1:\"one\", 2:\"one\", 3:\"three\", 4:\"four\", 5:\"five\"}\n",
    "    \n",
    "    map2 = dict_swap(map1)\n",
    "    map3 = dict_swap(map0)\n",
    "    \n",
    "    print(map2)\n",
    "    print(map3)"
   ]
  },
  {
   "cell_type": "code",
   "execution_count": null,
   "metadata": {},
   "outputs": [],
   "source": [
    "def testq4():\n",
    "    \n",
    "    string1 = \"Hello World\"\n",
    "    string2 = \"HelloWorld\"\n",
    "    string3 = \"HELLO WORLD\"\n",
    "    \n",
    "    upper1, lower1 = count_upper_lower(string1)\n",
    "    upper2, lower2 = count_upper_lower(string2)\n",
    "    upper3, lower3 = count_upper_lower(string3)\n",
    "    \n",
    "    print(f\"String = {string1} Upper = {upper1}, Lower = {lower1}\")\n",
    "    print(f\"String = {string2} Upper = {upper2}, Lower = {lower2}\")\n",
    "    print(f\"String = {string3} Upper = {upper3}, Lower = {lower3}\")"
   ]
  },
  {
   "cell_type": "code",
   "execution_count": null,
   "metadata": {},
   "outputs": [],
   "source": [
    "def testq5():\n",
    "    def func():\n",
    "        print(\"Hello World\")\n",
    "    delay(func,5)\n",
    "    "
   ]
  },
  {
   "cell_type": "code",
   "execution_count": null,
   "metadata": {},
   "outputs": [],
   "source": [
    "def testq6():\n",
    "    print(add(1,2))"
   ]
  },
  {
   "cell_type": "code",
   "execution_count": null,
   "metadata": {},
   "outputs": [],
   "source": [
    "def testq7():\n",
    "    print_string(\"Hello World\")"
   ]
  },
  {
   "cell_type": "code",
   "execution_count": null,
   "metadata": {},
   "outputs": [],
   "source": [
    "def main():\n",
    "    \n",
    "    testq1()\n",
    "    \n",
    "    testq2()\n",
    "    \n",
    "    testq3()\n",
    "    \n",
    "    testq4()\n",
    "    \n",
    "    testq5()\n",
    "    \n",
    "    testq6()\n",
    "    \n",
    "    testq7()\n",
    "    "
   ]
  },
  {
   "cell_type": "code",
   "execution_count": null,
   "metadata": {},
   "outputs": [],
   "source": [
    "main()"
   ]
  }
 ],
 "metadata": {
  "kernelspec": {
   "display_name": "test1",
   "language": "python",
   "name": "python3"
  },
  "language_info": {
   "codemirror_mode": {
    "name": "ipython",
    "version": 3
   },
   "file_extension": ".py",
   "mimetype": "text/x-python",
   "name": "python",
   "nbconvert_exporter": "python",
   "pygments_lexer": "ipython3",
   "version": "3.10.12"
  }
 },
 "nbformat": 4,
 "nbformat_minor": 2
}
